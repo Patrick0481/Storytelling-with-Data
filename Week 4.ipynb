{
 "cells": [
  {
   "cell_type": "markdown",
   "id": "320ac3da",
   "metadata": {},
   "source": [
    "Week 4 "
   ]
  },
  {
   "cell_type": "code",
   "execution_count": 6,
   "id": "b1de9cff",
   "metadata": {},
   "outputs": [
    {
     "name": "stdout",
     "output_type": "stream",
     "text": [
      "Defaulting to user installation because normal site-packages is not writeable\n",
      "Requirement already satisfied: openpyxl in c:\\users\\patri\\appdata\\local\\packages\\pythonsoftwarefoundation.python.3.13_qbz5n2kfra8p0\\localcache\\local-packages\\python313\\site-packages (3.1.5)\n",
      "Requirement already satisfied: et-xmlfile in c:\\users\\patri\\appdata\\local\\packages\\pythonsoftwarefoundation.python.3.13_qbz5n2kfra8p0\\localcache\\local-packages\\python313\\site-packages (from openpyxl) (2.0.0)\n",
      "Note: you may need to restart the kernel to use updated packages.\n",
      "   Year Month  Min  Avg waiting time  Max\n",
      "0  2023   Sep    9                18   27\n",
      "1  2023   Oct    6                12   17\n",
      "2  2023   Nov    7                13   17\n",
      "3  2023   Dec   12                18   26\n",
      "4  2024   Jan   12                17   24\n"
     ]
    }
   ],
   "source": [
    "%pip install openpyxl\n",
    "\n",
    "import pandas as pd\n",
    "import matplotlib.pyplot as plt\n",
    "url = 'https://raw.githubusercontent.com/Patrick0481/Storytelling-with-Data/main/Waiting_times.xlsx'\n",
    "df = pd.read_excel(url, engine=\"openpyxl\")\n",
    "print(df.head())"
   ]
  }
 ],
 "metadata": {
  "kernelspec": {
   "display_name": "Python 3",
   "language": "python",
   "name": "python3"
  },
  "language_info": {
   "codemirror_mode": {
    "name": "ipython",
    "version": 3
   },
   "file_extension": ".py",
   "mimetype": "text/x-python",
   "name": "python",
   "nbconvert_exporter": "python",
   "pygments_lexer": "ipython3",
   "version": "3.13.7"
  }
 },
 "nbformat": 4,
 "nbformat_minor": 5
}
