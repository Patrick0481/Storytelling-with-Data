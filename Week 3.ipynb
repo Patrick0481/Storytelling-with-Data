{
 "cells": [
  {
   "cell_type": "markdown",
   "id": "05e4d623",
   "metadata": {
    "vscode": {
     "languageId": "plaintext"
    }
   },
   "source": [
    "Week 3  Static and Interactive Data visualization"
   ]
  },
  {
   "cell_type": "markdown",
   "id": "d10fc17b",
   "metadata": {},
   "source": [
    "\"C:\\Users\\patri\\AppData\\Local\\Programs\\Microsoft VS Code\"\n",
    "This is the place where VS code stores the files its create"
   ]
  },
  {
   "cell_type": "code",
   "execution_count": null,
   "id": "b6f0526d",
   "metadata": {},
   "outputs": [],
   "source": [
    "#%pip install folium\n",
    "import folium\n",
    "import pandas as pd\n",
    "from folium.plugins import HeatMap\n",
    "\n",
    "url = 'https://raw.githubusercontent.com/Patrick0481/Storytelling-with-Data/refs/heads/main/Starbucks.csv?token=GHSAT0AAAAAADKNWND6ES3UZMUUHO5SYY4C2GUAZIA'\n",
    "df = pd.read_csv(url)\n",
    "print(df)\n",
    "\n",
    "map_1 = folium.Map(location=[20, 0], tiles='cartodbpositron', zoom_start=2)\n",
    "HeatMap(data=df[['latitude', 'longitude']], radius=0).add_to(map_1)\n",
    "map_1\n",
    "map_1.save('Starbucks.html')"
   ]
  },
  {
   "cell_type": "code",
   "execution_count": 6,
   "id": "24aed4e2",
   "metadata": {},
   "outputs": [
    {
     "name": "stdout",
     "output_type": "stream",
     "text": [
      "C:\\Users\\patri\\AppData\\Local\\Programs\\Microsoft VS Code\n"
     ]
    }
   ],
   "source": [
    "import os\n",
    "print(os.getcwd())"
   ]
  }
 ],
 "metadata": {
  "kernelspec": {
   "display_name": "Python 3",
   "language": "python",
   "name": "python3"
  },
  "language_info": {
   "codemirror_mode": {
    "name": "ipython",
    "version": 3
   },
   "file_extension": ".py",
   "mimetype": "text/x-python",
   "name": "python",
   "nbconvert_exporter": "python",
   "pygments_lexer": "ipython3",
   "version": "3.13.7"
  }
 },
 "nbformat": 4,
 "nbformat_minor": 5
}
