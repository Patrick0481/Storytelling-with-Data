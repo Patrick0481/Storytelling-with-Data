{
 "cells": [
  {
   "cell_type": "markdown",
   "id": "05e4d623",
   "metadata": {
    "vscode": {
     "languageId": "plaintext"
    }
   },
   "source": [
    "Week 3  Static and Interactive Data visualization"
   ]
  },
  {
   "cell_type": "code",
   "execution_count": null,
   "id": "b6f0526d",
   "metadata": {},
   "outputs": [],
   "source": []
  }
 ],
 "metadata": {
  "language_info": {
   "name": "python"
  }
 },
 "nbformat": 4,
 "nbformat_minor": 5
}
