{
 "cells": [
  {
   "cell_type": "markdown",
   "id": "2d190e18",
   "metadata": {},
   "source": [
    "# Fraud detection - Data Understanding"
   ]
  },
  {
   "cell_type": "markdown",
   "id": "7db72ecf",
   "metadata": {},
   "source": [
    "I have used the github copilot exentsion to write the code, it uses my reposetories to predict what i want to write based on the first few words of code. "
   ]
  },
  {
   "cell_type": "code",
   "execution_count": 5,
   "id": "e9a1643a",
   "metadata": {},
   "outputs": [],
   "source": [
    "import pandas as pd\n",
    "import seaborn as sns\n",
    "import matplotlib.pyplot as plt"
   ]
  },
  {
   "cell_type": "markdown",
   "id": "4538bb94",
   "metadata": {},
   "source": [
    "💬 **Interpret this output:** What does it tell you about the data?"
   ]
  },
  {
   "cell_type": "code",
   "execution_count": null,
   "id": "a63ce7ca",
   "metadata": {},
   "outputs": [],
   "source": [
    "# Load dataset\n",
    "url = 'https://raw.githubusercontent.com/Patrick0481/Data-science-for-business/refs/heads/main/Week2_Fraud_Detection.csv?token=GHSAT0AAAAAADMGVMALDQKAOVOYMJL2ZVH42G3Z4RQ'\n",
    "df = pd.read_csv(url)\n",
    "print(df.head())\n",
    "print(df.info())\n",
    "\n",
    "#This shows the different columns and their data types"
   ]
  },
  {
   "cell_type": "markdown",
   "id": "8ec9b86f",
   "metadata": {},
   "source": [
    "💬 **Interpret this output:** What does it tell you about the data?"
   ]
  },
  {
   "cell_type": "code",
   "execution_count": null,
   "id": "2a4e1b1f",
   "metadata": {},
   "outputs": [],
   "source": [
    "# Check for missing values and duplicates\n",
    "print(df.isnull().sum())\n",
    "print(df.duplicated().sum())\n",
    "\n",
    "#There are no missing values or duplicates in the dataset"
   ]
  },
  {
   "cell_type": "markdown",
   "id": "897c05be",
   "metadata": {},
   "source": [
    "💬 **Interpret this output:** What does it tell you about the data?"
   ]
  },
  {
   "cell_type": "code",
   "execution_count": null,
   "id": "55483b8f",
   "metadata": {},
   "outputs": [],
   "source": [
    "# Summary stats\n",
    "print(df.describe())\n",
    "\n",
    "#Rows: 300\n",
    "#Amount mean ≈ 97.28, median ≈ 71.68, max 461.06\n",
    "#Fraudulent: 26 (8.67%)\n",
    "#Non-Fraudulent: 274 (91.33%) \n",
    "#Merchant_Risk counts: Low 188, Medium 84, High 28"
   ]
  },
  {
   "cell_type": "markdown",
   "id": "45b01b5e",
   "metadata": {},
   "source": [
    "💬 **Interpret this output:** What does it tell you about the data?"
   ]
  },
  {
   "cell_type": "code",
   "execution_count": null,
   "id": "9ffd9c6d",
   "metadata": {},
   "outputs": [],
   "source": [
    "#Distribution of amounts in transactions\n",
    "sns.histplot(df[\"Amount\"], bins=20)\n",
    "plt.title(\"Distribution of amounts in transactions\")\n",
    "plt.show()\n",
    "\n",
    "#This shows that most transactions are below 200, with a few outliers above that amount.\n",
    "#At first glance it seems that fraudulent transactions are more likely to be of higher amounts, but further analysis is needed to confirm this."
   ]
  },
  {
   "cell_type": "markdown",
   "id": "1e537a70",
   "metadata": {},
   "source": [
    "💬 **Interpret this output:** What does it tell you about the data?"
   ]
  },
  {
   "cell_type": "code",
   "execution_count": null,
   "id": "d97ac348",
   "metadata": {},
   "outputs": [],
   "source": [
    "# Boxplot of Amount by Merchant Risk\n",
    "sns.boxplot(x=\"Merchant_Risk\", y=\"Amount\", data=df)\n",
    "plt.title(\"Amount by Merchant Risk\")\n",
    "plt.xticks(rotation=90)\n",
    "plt.show()\n",
    "\n",
    "#High-risk merchants actually have a lower median and tighter spread of amounts compared to low and medium-risk merchants."
   ]
  },
  {
   "cell_type": "markdown",
   "id": "3e9c39f9",
   "metadata": {},
   "source": [
    "💬 **Interpret this output:** What does it tell you about the data?"
   ]
  },
  {
   "cell_type": "code",
   "execution_count": null,
   "id": "1f77bf5d",
   "metadata": {},
   "outputs": [],
   "source": [
    "# Boxplot of Amount by Time of Day\n",
    "sns.boxplot(x=\"Amount\", y=\"Time_of_Day\", data=df)\n",
    "plt.title(\"Amount by Time of Day\")\n",
    "plt.show()\n",
    "\n",
    "#Transactions in the afternoon (12-18) have a higher median amount and wider spread, while early morning (0-6) transactions are generally lower amounts.\n",
    "#There isn't a clear link between time of day and fraud from this plot."
   ]
  },
  {
   "cell_type": "markdown",
   "id": "ca81c593",
   "metadata": {},
   "source": [
    "💬 **Interpret this output:** What does it tell you about the data?"
   ]
  },
  {
   "cell_type": "code",
   "execution_count": null,
   "id": "a4933e75",
   "metadata": {},
   "outputs": [],
   "source": [
    "# Boxplot of Amount by Time of Day\n",
    "sns.boxplot(x=\"Fraudulent\", y=\"Amount\", data=df)\n",
    "plt.title(\"Amount by Fraudulent\")\n",
    "plt.show()\n",
    "\n",
    "#Non-fraudulent transactions have a higher median amount and wider spread, indicating fraudsters may try to strear clear of higher-value transactions."
   ]
  },
  {
   "cell_type": "code",
   "execution_count": null,
   "id": "02e536cd",
   "metadata": {},
   "outputs": [],
   "source": [
    "#Create Amount bins\n",
    "df[\"Amount_bin\"] = pd.cut(df[\"Amount\"],                     \n",
    "bins=[0,50,100,200,500], \n",
    "labels=[\"0-50\",\"50-100\",\"100-200\",\"200-500\"])\n",
    "\n",
    "#Group by Merchant_Risk and Amount_bin, compute fraud rate (%)\n",
    "fraud_rate_combo = (\n",
    "df.groupby([\"Merchant_Risk\", \"Amount_bin\"])[\"Fraudulent\"]\n",
    ".mean()\n",
    ".reset_index()\n",
    ")\n",
    "\n",
    "fraud_rate_combo[\"Fraudulent\"] = fraud_rate_combo[\"Fraudulent\"] * 100\n",
    "\n",
    "#Pivot table for heatmap\n",
    "pivot_table = fraud_rate_combo.pivot(index=\"Merchant_Risk\", \n",
    "columns=\"Amount_bin\", \n",
    "values=\"Fraudulent\")\n",
    "\n",
    "# Plot heatmap\n",
    "plt.figure(figsize=(8,5))\n",
    "sns.heatmap(pivot_table, annot=True, fmt=\".1f\", cmap=\"Reds\", cbar_kws={'label': 'Fraud Rate (%)'})\n",
    "plt.title(\"Fraud Rate (%) by Merchant Risk and Amount Bin\")\n",
    "plt.ylabel(\"Merchant Risk\")\n",
    "plt.xlabel(\"Transaction Amount Range\")\n",
    "plt.tight_layout()\n",
    "plt.show()\n",
    "\n",
    "#Fraud is most frequent in High-risk merchants (as expected), but surprisingly, Low-risk merchants still show a non-negligible rate.\n",
    "#By amount, fraud peaks around 100–200 but actually drops for very high transactions (200+). This could mean fraudsters prefer medium-value transactions to avoid detection."
   ]
  }
 ],
 "metadata": {
  "kernelspec": {
   "display_name": "Python 3",
   "language": "python",
   "name": "python3"
  },
  "language_info": {
   "codemirror_mode": {
    "name": "ipython",
    "version": 3
   },
   "file_extension": ".py",
   "mimetype": "text/x-python",
   "name": "python",
   "nbconvert_exporter": "python",
   "pygments_lexer": "ipython3",
   "version": "3.13.7"
  }
 },
 "nbformat": 4,
 "nbformat_minor": 5
}
